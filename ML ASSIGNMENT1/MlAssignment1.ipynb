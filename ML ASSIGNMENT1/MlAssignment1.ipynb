{
  "metadata": {
    "language_info": {
      "codemirror_mode": {
        "name": "python",
        "version": 3
      },
      "file_extension": ".py",
      "mimetype": "text/x-python",
      "name": "python",
      "nbconvert_exporter": "python",
      "pygments_lexer": "ipython3",
      "version": "3.8"
    },
    "kernelspec": {
      "name": "python",
      "display_name": "Python (Pyodide)",
      "language": "python"
    }
  },
  "nbformat_minor": 4,
  "nbformat": 4,
  "cells": [
    {
      "cell_type": "code",
      "source": "import statistics\nages = [19, 22, 19, 24, 20, 25, 26, 24, 25, 24]\n#Sort the list and find the min and max age\nages.sort()\nprint (\"Sorted age:\", ages)\n#Add the min age and the max age again to the list\nages.append(min(ages))\nages.append(max(ages))\nprint (\"Added min and max values again:\",ages) \n#Find the median age (one middle item or two middle items divided by two)\nmdn_age = statistics.median(ages)\nprint (\"Median:\", mdn_age) \n#Find the average age (sum of all items divided by their number)\naverage= sum(ages)/len(ages)\nprint (\"Avg = \", average) \n#Find the range of the ages (max minus min)\nrng=max(ages)-min(ages)\nprint (\"Range = \", rng) ",
      "metadata": {
        "trusted": true
      },
      "execution_count": 3,
      "outputs": [
        {
          "name": "stdout",
          "text": "Sorted age: [19, 19, 20, 22, 24, 24, 24, 25, 25, 26]\nAdded min and max values again: [19, 19, 20, 22, 24, 24, 24, 25, 25, 26, 19, 26]\nMedian: 24.0\nAvg =  22.75\nRange =  7\n",
          "output_type": "stream"
        }
      ]
    },
    {
      "cell_type": "code",
      "source": "#Create an empty dictionary called dog\n#Add name, color, breed, legs, age to the dog dictionary\n#Create a student dictionary and add first_name, last_name, gender, age, marital status,skills, country, city and address as keys for the dictionary\n#Get the length of the student dictionary\n#Get the value of skills and check the data type, it should be a list\n#Modify the skills values by adding one or two skills\n#Get the dictionary keys as a list\n#Get the dictionary values as a list\n\n#Create an empty dictionary called dog\ndog={}\n#Add name, color, breed, legs, age to the dog dictionary\ndog.update({'name':'Tommy','color':'white','breed':'husky','legs':'4','age':'2'}) \nprint (\"Dog Dictionary Created:\",dog) \n# Student dictionary is created with given key and values \nstudent = {'first_name':'Srujana','last_name':'Makutam','Gender':'Female','age':'22','marital_status':'si ngle', \n'skills':['dancer'],'Country':'India','City':'Hyderabad','Address':'1/180'} \nprint (\"Student Dictionary Created:\",student) \n# Find the length of student dictionary \nprint (\"Length of student:\", len(student)) \n# Check the datatype of skills\nprint(type(student['skills']))\n# Add one item to skills \nstudent['skills'].append('Machine Language')\nprint (\"New skill added:\",student['skills'])\n# Get values of skills dictionary \nprint (\"Values of skills:\",student.values()) \n# Get student key\nprint (\"Student keys:\",student.keys())\n",
      "metadata": {
        "trusted": true
      },
      "execution_count": 11,
      "outputs": [
        {
          "name": "stdout",
          "text": "Dog Dictionary Created: {'name': 'Tommy', 'color': 'white', 'breed': 'husky', 'legs': '4', 'age': '2'}\nStudent Dictionary Created: {'first_name': 'Srujana', 'last_name': 'Makutam', 'Gender': 'Female', 'age': '22', 'marital_status': 'si ngle', 'skills': ['dancer'], 'Country': 'India', 'City': 'Hyderabad', 'Address': '1/180'}\nLength of student: 9\n<class 'list'>\nNew skill added: ['dancer', 'Machine Language']\nValues of skills: dict_values(['Srujana', 'Makutam', 'Female', '22', 'si ngle', ['dancer', 'Machine Language'], 'India', 'Hyderabad', '1/180'])\nStudent keys: dict_keys(['first_name', 'last_name', 'Gender', 'age', 'marital_status', 'skills', 'Country', 'City', 'Address'])\n",
          "output_type": "stream"
        }
      ]
    },
    {
      "cell_type": "code",
      "source": "#Create tuple of sisters and brothers \nmy_sisters = ('Sanjana', 'Sheethal','Shivani','Spoorthi')  \nmy_brothers = ('Akhil','Suchith','Vandith','Vaishnav') \n# Create another tuple as siblings and join the sister’s and brother’s tuple \nsiblings = my_sisters + my_brothers \n# Displays siblings’ output and length of siblings \nprint(\"Siblings:\", siblings) \nprint(\"Length of Siblings:\", len(siblings)) \n# Create another tuple as family_members and add father and mother name to it \nfamily_members = siblings + ('Srinivas','Susmitha') \n# Displays family_members output \nprint(\"Family_members:\",family_members) \n",
      "metadata": {
        "trusted": true
      },
      "execution_count": 12,
      "outputs": [
        {
          "name": "stdout",
          "text": "Siblings: ('Sanjana', 'Sheethal', 'Shivani', 'Spoorthi', 'Akhil', 'Suchith', 'Vandith', 'Vaishnav')\nLength of Siblings: 8\nFamily_members: ('Sanjana', 'Sheethal', 'Shivani', 'Spoorthi', 'Akhil', 'Suchith', 'Vandith', 'Vaishnav', 'Srinivas', 'Susmitha')\n",
          "output_type": "stream"
        }
      ]
    },
    {
      "cell_type": "code",
      "source": "#Length of the set \nit_companies = {'Facebook', 'Google', 'Microsoft', 'Apple', 'IBM', 'Oracle', 'Amazon'} \nprint(\"Length of it_companies:\", len(it_companies)) \n#Add twitter \nit_companies.add('Twitter') \nprint(\"After adding another item:\",it_companies) \n#Add multiple it_companies \nit_companies.update({'Infosys','Capgemini','Wipro','TCS'}) \nprint(\"After adding multiple items:\",it_companies) \n#Remove \nit_companies.remove('TCS') \nprint(\"After removing one company:\",it_companies) \n#Discard \nit_companies.discard('TCS') \nprint(\"After discarding  company:\",it_companies) \n#Discard doesn't raise any error if any item is not present in the set \n#Join A & B \nA= {19, 22, 24, 20, 25, 26} \nB= {19, 22, 20, 25, 26, 24, 28, 27}  \nprint(\"Join A and B:\", A.union(B)) \n#Intersection \nprint(\"Intersection of A and B:\", A.intersection(B)) \n#Subset \nprint(\"Subset of A and B:\", A.issubset(B)) \n#Disjoint \nprint(\"Disjoint:\", A.isdisjoint(B)) \n#delete set  \nA.clear() \nprint(A) \nB.clear() \nprint(B)\n#Convert list to set \nage = [22, 19, 24, 25, 26, 24, 25, 24] \nprint(\"Converting list to set:\", set(age)) \n#Length of set \nprint(\"Length of set:\",len(set(age))) \n#Length of list \nprint(\"Length of list:\",len(age)) \n\n",
      "metadata": {
        "trusted": true
      },
      "execution_count": 14,
      "outputs": [
        {
          "name": "stdout",
          "text": "Length of it_companies: 7\nAfter adding another item: {'Facebook', 'Google', 'Twitter', 'Microsoft', 'Oracle', 'Apple', 'Amazon', 'IBM'}\nAfter adding multiple items: {'TCS', 'Infosys', 'Twitter', 'Facebook', 'Google', 'Capgemini', 'Wipro', 'Microsoft', 'Oracle', 'Apple', 'Amazon', 'IBM'}\nAfter removing one company: {'Infosys', 'Twitter', 'Facebook', 'Google', 'Capgemini', 'Wipro', 'Microsoft', 'Oracle', 'Apple', 'Amazon', 'IBM'}\nAfter discarding  company: {'Infosys', 'Twitter', 'Facebook', 'Google', 'Capgemini', 'Wipro', 'Microsoft', 'Oracle', 'Apple', 'Amazon', 'IBM'}\nJoin A and B: {19, 20, 22, 24, 25, 26, 27, 28}\nIntersection of A and B: {19, 20, 22, 24, 25, 26}\nSubset of A and B: True\nDisjoint: False\nset()\nset()\nConverting list to set: {19, 22, 24, 25, 26}\nLength of set: 5\nLength of list: 8\n",
          "output_type": "stream"
        }
      ]
    },
    {
      "cell_type": "code",
      "source": "#Unique words using split method \n# Unique \nst = \"I am a teacher and I love to inspire and teach people\" \n# Use split method to separate the words and set to get the unique values \nspt=set(st.split(\" \")) \nprint(spt) \nprint (\"Length:\",len(spt)) \n",
      "metadata": {
        "trusted": true
      },
      "execution_count": 17,
      "outputs": [
        {
          "name": "stdout",
          "text": "{'teacher', 'inspire', 'I', 'love', 'to', 'am', 'teach', 'people', 'and', 'a'}\nLength: 10\n",
          "output_type": "stream"
        }
      ]
    },
    {
      "cell_type": "code",
      "source": "#Used tab and escape to display them in the given format \na= \"Name\\t Age\\tCountry\\tCity\\t\\nAsabeneh 250\\tFinland\\tHelsinki\" \nprint(a) ",
      "metadata": {
        "trusted": true
      },
      "execution_count": 18,
      "outputs": [
        {
          "name": "stdout",
          "text": "Name\t Age\tCountry\tCity\t\nAsabeneh 250\tFinland\tHelsinki\n",
          "output_type": "stream"
        }
      ]
    },
    {
      "cell_type": "code",
      "source": "#Use the string formatting method to display the following:\nradius = 10\narea = 3.14 * radius ** 2\nprint(\"The area of a circle with radius %d is %d meters square.\"%(radius,area))",
      "metadata": {
        "trusted": true
      },
      "execution_count": 21,
      "outputs": [
        {
          "name": "stdout",
          "text": "The area of a circle with radius 10 is 314 meters square.\n",
          "output_type": "stream"
        }
      ]
    },
    {
      "cell_type": "code",
      "source": "",
      "metadata": {},
      "execution_count": null,
      "outputs": []
    }
  ]
}