{
  "metadata": {
    "language_info": {
      "codemirror_mode": {
        "name": "python",
        "version": 3
      },
      "file_extension": ".py",
      "mimetype": "text/x-python",
      "name": "python",
      "nbconvert_exporter": "python",
      "pygments_lexer": "ipython3",
      "version": "3.8"
    },
    "kernelspec": {
      "name": "python",
      "display_name": "Python (Pyodide)",
      "language": "python"
    }
  },
  "nbformat_minor": 4,
  "nbformat": 4,
  "cells": [
    {
      "cell_type": "code",
      "source": "y=\"* \"\nfor x in range(1,6):\n    print(y*x)\nfor x in range(4,0,-1):\n    print(y*x)",
      "metadata": {
        "trusted": true
      },
      "execution_count": 10,
      "outputs": [
        {
          "name": "stdout",
          "text": "* \n* * \n* * * \n* * * * \n* * * * * \n* * * * \n* * * \n* * \n* \n",
          "output_type": "stream"
        }
      ]
    },
    {
      "cell_type": "code",
      "source": "my_list = [10, 20, 30, 40, 50, 60, 70, 80, 90, 100]\nfor i in range(1,len(my_list),2):\n    print(my_list[i],end=\" \")",
      "metadata": {
        "trusted": true
      },
      "execution_count": 5,
      "outputs": [
        {
          "name": "stdout",
          "text": "20 40 60 80 100 ",
          "output_type": "stream"
        }
      ]
    },
    {
      "cell_type": "code",
      "source": "x = [23,'Python', 23.98]\nprint(x)\nnewList=[]\nfor i in x:\n    newList.append(type(i))\nprint(newList)",
      "metadata": {
        "trusted": true
      },
      "execution_count": 6,
      "outputs": [
        {
          "name": "stdout",
          "text": "[23, 'Python', 23.98]\n[<class 'int'>, <class 'str'>, <class 'float'>]\n",
          "output_type": "stream"
        }
      ]
    },
    {
      "cell_type": "code",
      "source": "def unique_list(l):\n  x = []\n  for a in l:\n    if a not in x:\n      x.append(a)\n  return x\n\nprint(unique_list([1,2,3,3,3,3,4,5])) ",
      "metadata": {
        "trusted": true
      },
      "execution_count": 7,
      "outputs": [
        {
          "name": "stdout",
          "text": "[1, 2, 3, 4, 5]\n",
          "output_type": "stream"
        }
      ]
    },
    {
      "cell_type": "code",
      "source": "def num_case(str):                                   \n    z = 0                                            \n    j = 0                                            \n    for i in str:                                    \n        if i.isupper():                              \n            z = z + 1                                \n        elif i.islower():                            \n            j = j + 1                                                                   \n                                                 \n    return (z, j)                                    \n                                                 \n                                                 \nuppercase, lowercase = num_case('The quick Brow Fox')\n                                                 \nprint(\"upper case:\", uppercase)                      \nprint(\"lowercase:\", lowercase) ",
      "metadata": {
        "trusted": true
      },
      "execution_count": 9,
      "outputs": [
        {
          "name": "stdout",
          "text": "upper case: 3\nlowercase: 12\n",
          "output_type": "stream"
        }
      ]
    },
    {
      "cell_type": "code",
      "source": "",
      "metadata": {},
      "execution_count": null,
      "outputs": []
    }
  ]
}